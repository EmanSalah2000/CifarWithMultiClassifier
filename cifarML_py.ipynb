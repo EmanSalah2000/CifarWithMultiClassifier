{
  "nbformat": 4,
  "nbformat_minor": 0,
  "metadata": {
    "colab": {
      "name": "cifarML.py",
      "provenance": [],
      "collapsed_sections": []
    },
    "kernelspec": {
      "display_name": "Python 3",
      "name": "python3"
    }
  },
  "cells": [
    {
      "cell_type": "code",
      "metadata": {
        "id": "tpoq7jAfJQ1Q"
      },
      "source": [
        "import cv2\n",
        "from numpy import mgrid, sum\n",
        "from sklearn.svm import SVC\n",
        "import sklearn\n",
        "import pandas as pd\n",
        "import numpy as np\n",
        "from matplotlib import pyplot as plt\n",
        "from sklearn import datasets\n",
        "from keras.datasets import cifar10\n",
        "from sklearn.model_selection import train_test_split\n",
        "from sklearn.naive_bayes import GaussianNB\n",
        "from sklearn.linear_model import LinearRegression\n",
        "from sklearn import model_selection\n",
        "from sklearn.metrics import precision_recall_fscore_support\n",
        "from sklearn.pipeline import Pipeline\n",
        "from sklearn.preprocessing import StandardScaler, MinMaxScaler\n",
        "from sklearn.metrics import confusion_matrix\n",
        "import sklearn.metrics as sm\n",
        "from sklearn.metrics import accuracy_score\n",
        "from sklearn.metrics import classification_report\n",
        "from sklearn.metrics import r2_score\n",
        "from sklearn.neighbors import KNeighborsClassifier\n",
        "from sklearn import metrics\n",
        "from sklearn.neural_network import MLPClassifier"
      ],
      "execution_count": null,
      "outputs": []
    },
    {
      "cell_type": "code",
      "metadata": {
        "id": "nmdoZWXzZprf",
        "colab": {
          "base_uri": "https://localhost:8080/"
        },
        "outputId": "f3bb82fd-8ca3-46e3-faca-133efa2f5311"
      },
      "source": [
        "print(\"Loading data...\")\n",
        "(X_train,Y_train),(X_test,Y_test)=cifar10.load_data()\n",
        "print(X_train.shape)\n",
        "print(Y_train.shape)\n",
        "print(X_test.shape)\n",
        "print(Y_test.shape)"
      ],
      "execution_count": null,
      "outputs": [
        {
          "output_type": "stream",
          "text": [
            "Loading data...\n",
            "Downloading data from https://www.cs.toronto.edu/~kriz/cifar-10-python.tar.gz\n",
            "170500096/170498071 [==============================] - 2s 0us/step\n",
            "(50000, 32, 32, 3)\n",
            "(50000, 1)\n",
            "(10000, 32, 32, 3)\n",
            "(10000, 1)\n"
          ],
          "name": "stdout"
        }
      ]
    },
    {
      "cell_type": "code",
      "metadata": {
        "colab": {
          "base_uri": "https://localhost:8080/"
        },
        "id": "A3aLIFqjKIIu",
        "outputId": "4b4c026c-d8f2-49bd-baaf-89d6eff73ee3"
      },
      "source": [
        "(n,x,y,m)=X_train.shape\n",
        "for i in range(1, 3+1):\n",
        "   print (X_train[i])\n",
        "   print()\n",
        "   print (Y_train[i])"
      ],
      "execution_count": null,
      "outputs": [
        {
          "output_type": "stream",
          "text": [
            "[[[154 177 187]\n",
            "  [126 137 136]\n",
            "  [105 104  95]\n",
            "  ...\n",
            "  [ 91  95  71]\n",
            "  [ 87  90  71]\n",
            "  [ 79  81  70]]\n",
            "\n",
            " [[140 160 169]\n",
            "  [145 153 154]\n",
            "  [125 125 118]\n",
            "  ...\n",
            "  [ 96  99  78]\n",
            "  [ 77  80  62]\n",
            "  [ 71  73  61]]\n",
            "\n",
            " [[140 155 164]\n",
            "  [139 146 149]\n",
            "  [115 115 112]\n",
            "  ...\n",
            "  [ 79  82  64]\n",
            "  [ 68  70  55]\n",
            "  [ 67  69  55]]\n",
            "\n",
            " ...\n",
            "\n",
            " [[175 167 166]\n",
            "  [156 154 160]\n",
            "  [154 160 170]\n",
            "  ...\n",
            "  [ 42  34  36]\n",
            "  [ 61  53  57]\n",
            "  [ 93  83  91]]\n",
            "\n",
            " [[165 154 128]\n",
            "  [156 152 130]\n",
            "  [159 161 142]\n",
            "  ...\n",
            "  [103  93  96]\n",
            "  [123 114 120]\n",
            "  [131 121 131]]\n",
            "\n",
            " [[163 148 120]\n",
            "  [158 148 122]\n",
            "  [163 156 133]\n",
            "  ...\n",
            "  [143 133 139]\n",
            "  [143 134 142]\n",
            "  [143 133 144]]]\n",
            "\n",
            "[9]\n",
            "[[[255 255 255]\n",
            "  [253 253 253]\n",
            "  [253 253 253]\n",
            "  ...\n",
            "  [253 253 253]\n",
            "  [253 253 253]\n",
            "  [253 253 253]]\n",
            "\n",
            " [[255 255 255]\n",
            "  [255 255 255]\n",
            "  [255 255 255]\n",
            "  ...\n",
            "  [255 255 255]\n",
            "  [255 255 255]\n",
            "  [255 255 255]]\n",
            "\n",
            " [[255 255 255]\n",
            "  [254 254 254]\n",
            "  [254 254 254]\n",
            "  ...\n",
            "  [254 254 254]\n",
            "  [254 254 254]\n",
            "  [254 254 254]]\n",
            "\n",
            " ...\n",
            "\n",
            " [[113 120 112]\n",
            "  [111 118 111]\n",
            "  [105 112 106]\n",
            "  ...\n",
            "  [ 72  81  80]\n",
            "  [ 72  80  79]\n",
            "  [ 72  80  79]]\n",
            "\n",
            " [[111 118 110]\n",
            "  [104 111 104]\n",
            "  [ 99 106  98]\n",
            "  ...\n",
            "  [ 68  75  73]\n",
            "  [ 70  76  75]\n",
            "  [ 78  84  82]]\n",
            "\n",
            " [[106 113 105]\n",
            "  [ 99 106  98]\n",
            "  [ 95 102  94]\n",
            "  ...\n",
            "  [ 78  85  83]\n",
            "  [ 79  85  83]\n",
            "  [ 80  86  84]]]\n",
            "\n",
            "[9]\n",
            "[[[ 28  25  10]\n",
            "  [ 37  34  19]\n",
            "  [ 38  35  20]\n",
            "  ...\n",
            "  [ 76  67  39]\n",
            "  [ 81  72  43]\n",
            "  [ 85  76  47]]\n",
            "\n",
            " [[ 33  28  13]\n",
            "  [ 34  30  14]\n",
            "  [ 32  27  12]\n",
            "  ...\n",
            "  [ 95  82  55]\n",
            "  [ 96  82  56]\n",
            "  [ 85  72  45]]\n",
            "\n",
            " [[ 39  32  15]\n",
            "  [ 40  33  17]\n",
            "  [ 57  50  33]\n",
            "  ...\n",
            "  [ 93  76  52]\n",
            "  [107  89  66]\n",
            "  [ 95  77  54]]\n",
            "\n",
            " ...\n",
            "\n",
            " [[ 83  73  52]\n",
            "  [ 87  77  56]\n",
            "  [ 84  74  52]\n",
            "  ...\n",
            "  [ 99  93  70]\n",
            "  [ 90  84  61]\n",
            "  [ 81  75  52]]\n",
            "\n",
            " [[ 88  72  51]\n",
            "  [ 90  74  52]\n",
            "  [ 93  77  56]\n",
            "  ...\n",
            "  [ 80  74  53]\n",
            "  [ 76  70  49]\n",
            "  [ 82  76  55]]\n",
            "\n",
            " [[ 97  78  56]\n",
            "  [ 94  75  53]\n",
            "  [ 93  75  53]\n",
            "  ...\n",
            "  [ 54  47  28]\n",
            "  [ 63  56  37]\n",
            "  [ 72  65  46]]]\n",
            "\n",
            "[4]\n"
          ],
          "name": "stdout"
        }
      ]
    },
    {
      "cell_type": "code",
      "metadata": {
        "colab": {
          "base_uri": "https://localhost:8080/",
          "height": 571
        },
        "id": "fUGo3YXULHol",
        "outputId": "10d105a9-6f86-4662-db26-a9a5846f77e6"
      },
      "source": [
        "fig=plt.figure(figsize=(32, 32))\n",
        "for i in range(1, 6+1):\n",
        "   fig.add_subplot(6, 3, i)\n",
        "   plt.imshow(X_train[i])\n",
        "  "
      ],
      "execution_count": null,
      "outputs": [
        {
          "output_type": "display_data",
          "data": {
            "image/png": "[encoded data removed]",
            "text/plain": [
              "<Figure size 2304x2304 with 6 Axes>"
            ]
          },
          "metadata": {
            "tags": [],
            "needs_background": "light"
          }
        }
      ]
    },
    {
      "cell_type": "code",
      "metadata": {
        "colab": {
          "base_uri": "https://localhost:8080/"
        },
        "id": "d-lRwNBLLYjp",
        "outputId": "528a993f-168d-43c7-e034-531ecdac0e39"
      },
      "source": [
        "fig=plt.figure(figsize=(32, 32))\n",
        "for i in range(1, 6+1):\n",
        "   fig.add_subplot(6, 3, i)\n",
        "   plt.imshow(X_test[i])"
      ],
      "execution_count": null,
      "outputs": [
        {
          "output_type": "display_data",
          "data": {
            "image/png": "[encoded data removed]",
            "text/plain": [
              "<Figure size 2304x2304 with 6 Axes>"
            ]
          },
          "metadata": {
            "tags": [],
            "needs_background": "light"
          }
        }
      ]
    },
    {
      "cell_type": "code",
      "metadata": {
        "id": "63khu4WCL7kd"
      },
      "source": [
        " def centralmoments(image,c):\n",
        "  y,x = mgrid[:image.shape[0],:image.shape[1]]\n",
        "  n=int((c+2)*(c+1)/2)\n",
        "  moments = np.zeros(n)\n",
        "  image=image/255\n",
        "  sumim=sum(image)\n",
        "  miox = sum(x*image)/sumim\n",
        "  mioy = sum(y*image)/sumim\n",
        "  x=x-miox\n",
        "  y=y-mioy\n",
        "  i=0\n",
        "  for p in range(c+1):\n",
        "      for q in range(c-p+1):\n",
        "          moments[i] = sum(x ** p*y ** q*image)\n",
        "          i=i+1\n",
        "  return moments"
      ],
      "execution_count": null,
      "outputs": []
    },
    {
      "cell_type": "code",
      "metadata": {
        "id": "OZByQW4zfQME"
      },
      "source": [
        "def TestSVM(svc,X_testFeat,Y_test):\n",
        "  ntest=len(X_testFeat)\n",
        "  #Pipeline(steps=[('scaler', StandardScaler()), ('svc', SVC())])\n",
        "  score=svc.score(X_testFeat, np.ravel(Y_test))\n",
        "  print(score)"
      ],
      "execution_count": null,
      "outputs": []
    },
    {
      "cell_type": "code",
      "metadata": {
        "colab": {
          "base_uri": "https://localhost:8080/"
        },
        "id": "VIhmTC4TfXXC",
        "outputId": "39141fdd-0da7-429d-941d-d7276baa7ecb"
      },
      "source": [
        "print(\"Feature extraction...\")\n",
        "ntrain=10000\n",
        "c=3\n",
        "n=int((c+2)*(c+1)/2)\n",
        "X_trainFeat=np.zeros([ntrain,n])\n",
        "for i in range(ntrain):\n",
        "    array=np.array(X_train[i])\n",
        "    array=cv2.cvtColor(array,cv2.COLOR_BGR2GRAY)\n",
        "    X_trainFeat[i]=np.array(centralmoments(array,c))\n",
        "print( X_trainFeat)"
      ],
      "execution_count": null,
      "outputs": [
        {
          "output_type": "stream",
          "text": [
            "Feature extraction...\n",
            "[[ 3.89274510e+02 -1.13686838e-12  2.94104517e+04 ...  3.07238811e+04\n",
            "   7.08518366e+03 -5.40227501e+03]\n",
            " [ 5.23537255e+02  2.27373675e-13  3.89137945e+04 ...  4.13912775e+04\n",
            "   3.83921080e+04  4.14919251e+04]\n",
            " [ 5.38709804e+02  4.54747351e-13  4.33381940e+04 ...  4.94056109e+04\n",
            "  -1.72183738e+03  6.89768244e+04]\n",
            " ...\n",
            " [ 4.04980392e+02  2.27373675e-13  3.28718646e+04 ...  3.00262403e+04\n",
            "   3.02310323e+04  3.26929295e+04]\n",
            " [ 5.04705882e+02  4.54747351e-13  3.99296029e+04 ...  5.61030450e+04\n",
            "   9.04378225e+03  1.25983332e+05]\n",
            " [ 5.06074510e+02  2.27373675e-13  3.96608603e+04 ...  4.07876663e+04\n",
            "   1.73609566e+04  1.16284906e+04]]\n"
          ],
          "name": "stdout"
        }
      ]
    },
    {
      "cell_type": "code",
      "metadata": {
        "id": "FqFvfU9Ifv9z"
      },
      "source": [
        "ntest=len(X_test)\n",
        "X_testFeat=np.zeros([ntest,n])\n",
        "for i in range(ntest):\n",
        "    array=np.array(X_test[i])\n",
        "    array=cv2.cvtColor(array,cv2.COLOR_BGR2GRAY)\n",
        "    X_testFeat[i]=centralmoments(array,c)\n",
        "#print( X_testFeat)"
      ],
      "execution_count": null,
      "outputs": []
    },
    {
      "cell_type": "code",
      "metadata": {
        "colab": {
          "base_uri": "https://localhost:8080/"
        },
        "id": "szG4Uu8hgAE1",
        "outputId": "72c56476-4e84-4efc-df19-86791332533c"
      },
      "source": [
        "print(\"Training linear kernel svm...\")\n",
        "svc1 = Pipeline([('scaler', StandardScaler()),\n",
        "                  ('svc', SVC(kernel='linear'))])\n",
        "svc1.fit(X_trainFeat, np.ravel(Y_train[0:ntrain]))"
      ],
      "execution_count": null,
      "outputs": [
        {
          "output_type": "stream",
          "text": [
            "Training linear kernel svm...\n"
          ],
          "name": "stdout"
        },
        {
          "output_type": "execute_result",
          "data": {
            "text/plain": [
              "Pipeline(memory=None,\n",
              "         steps=[('scaler',\n",
              "                 StandardScaler(copy=True, with_mean=True, with_std=True)),\n",
              "                ('svc',\n",
              "                 SVC(C=1.0, break_ties=False, cache_size=200, class_weight=None,\n",
              "                     coef0=0.0, decision_function_shape='ovr', degree=3,\n",
              "                     gamma='scale', kernel='linear', max_iter=-1,\n",
              "                     probability=False, random_state=None, shrinking=True,\n",
              "                     tol=0.001, verbose=False))],\n",
              "         verbose=False)"
            ]
          },
          "metadata": {
            "tags": []
          },
          "execution_count": 10
        }
      ]
    },
    {
      "cell_type": "code",
      "metadata": {
        "colab": {
          "base_uri": "https://localhost:8080/"
        },
        "id": "XVxpp0upgF3C",
        "outputId": "2a219fc7-314b-4834-f5a4-df0bf50f8881"
      },
      "source": [
        "print(\"Training rbf kernel svm...\")\n",
        "svc2 = Pipeline([('scaler', StandardScaler()),\n",
        "                  ('svc', SVC(kernel='rbf'))])\n",
        "svc2.fit(X_trainFeat, np.ravel(Y_train[0:ntrain]))\n"
      ],
      "execution_count": null,
      "outputs": [
        {
          "output_type": "stream",
          "text": [
            "Training rbf kernel svm...\n"
          ],
          "name": "stdout"
        },
        {
          "output_type": "execute_result",
          "data": {
            "text/plain": [
              "Pipeline(memory=None,\n",
              "         steps=[('scaler',\n",
              "                 StandardScaler(copy=True, with_mean=True, with_std=True)),\n",
              "                ('svc',\n",
              "                 SVC(C=1.0, break_ties=False, cache_size=200, class_weight=None,\n",
              "                     coef0=0.0, decision_function_shape='ovr', degree=3,\n",
              "                     gamma='scale', kernel='rbf', max_iter=-1,\n",
              "                     probability=False, random_state=None, shrinking=True,\n",
              "                     tol=0.001, verbose=False))],\n",
              "         verbose=False)"
            ]
          },
          "metadata": {
            "tags": []
          },
          "execution_count": 11
        }
      ]
    },
    {
      "cell_type": "code",
      "metadata": {
        "colab": {
          "base_uri": "https://localhost:8080/"
        },
        "id": "HmKxe3BugLwU",
        "outputId": "ab9d7cb4-e98b-4373-93a4-0cd093bc8881"
      },
      "source": [
        "print(\"Training polynomial kernel svm...\")\n",
        "svc3 = Pipeline([('scaler', StandardScaler()),\n",
        "                  ('svc', SVC(kernel='poly'))])\n",
        "svc3.fit(X_trainFeat, np.ravel(Y_train[0:ntrain]))\n"
      ],
      "execution_count": null,
      "outputs": [
        {
          "output_type": "stream",
          "text": [
            "Training polynomial kernel svm...\n"
          ],
          "name": "stdout"
        },
        {
          "output_type": "execute_result",
          "data": {
            "text/plain": [
              "Pipeline(memory=None,\n",
              "         steps=[('scaler',\n",
              "                 StandardScaler(copy=True, with_mean=True, with_std=True)),\n",
              "                ('svc',\n",
              "                 SVC(C=1.0, break_ties=False, cache_size=200, class_weight=None,\n",
              "                     coef0=0.0, decision_function_shape='ovr', degree=3,\n",
              "                     gamma='scale', kernel='poly', max_iter=-1,\n",
              "                     probability=False, random_state=None, shrinking=True,\n",
              "                     tol=0.001, verbose=False))],\n",
              "         verbose=False)"
            ]
          },
          "metadata": {
            "tags": []
          },
          "execution_count": 12
        }
      ]
    },
    {
      "cell_type": "code",
      "metadata": {
        "colab": {
          "base_uri": "https://localhost:8080/"
        },
        "id": "keCsSrFKgRXc",
        "outputId": "9a6f1762-75bd-43e2-b95d-06f44a5352b3"
      },
      "source": [
        "print(\"Training sigmoid kernel svm...\")\n",
        "svc4 = Pipeline([('scaler', StandardScaler()),\n",
        "                  ('svc', SVC(kernel='sigmoid'))])\n",
        "svc4.fit(X_trainFeat, np.ravel(Y_train[0:ntrain]))\n"
      ],
      "execution_count": null,
      "outputs": [
        {
          "output_type": "stream",
          "text": [
            "Training sigmoid kernel svm...\n"
          ],
          "name": "stdout"
        },
        {
          "output_type": "execute_result",
          "data": {
            "text/plain": [
              "Pipeline(memory=None,\n",
              "         steps=[('scaler',\n",
              "                 StandardScaler(copy=True, with_mean=True, with_std=True)),\n",
              "                ('svc',\n",
              "                 SVC(C=1.0, break_ties=False, cache_size=200, class_weight=None,\n",
              "                     coef0=0.0, decision_function_shape='ovr', degree=3,\n",
              "                     gamma='scale', kernel='sigmoid', max_iter=-1,\n",
              "                     probability=False, random_state=None, shrinking=True,\n",
              "                     tol=0.001, verbose=False))],\n",
              "         verbose=False)"
            ]
          },
          "metadata": {
            "tags": []
          },
          "execution_count": 13
        }
      ]
    },
    {
      "cell_type": "code",
      "metadata": {
        "colab": {
          "base_uri": "https://localhost:8080/"
        },
        "id": "JhthIw9KgXf5",
        "outputId": "e50bd79b-6e1a-426f-e4ca-12339ab8b105"
      },
      "source": [
        "print(\"Testing accuracy of linear kernel svm...\")\n",
        "TestSVM(svc1,X_testFeat, Y_test);"
      ],
      "execution_count": null,
      "outputs": [
        {
          "output_type": "stream",
          "text": [
            "Testing accuracy of linear kernel svm...\n",
            "0.2566\n"
          ],
          "name": "stdout"
        }
      ]
    },
    {
      "cell_type": "code",
      "metadata": {
        "colab": {
          "base_uri": "https://localhost:8080/"
        },
        "id": "sC6YpBP_LVJx",
        "outputId": "541fccaa-d42d-4e83-aad5-aa9fa87dddda"
      },
      "source": [
        "Y_predicted_linear=svc1.predict(X_testFeat)\n",
        "print(\"Confusion matrix\")\n",
        "print(confusion_matrix(np.ravel(Y_test[0:ntest]),Y_predicted_linear))\n"
      ],
      "execution_count": null,
      "outputs": [
        {
          "output_type": "stream",
          "text": [
            "Confusion matrix\n",
            "[[356  30  44  36  37  30  79  58 228 102]\n",
            " [ 64 200  28  36  61  37 186  50 144 194]\n",
            " [179  83 120  89  60  55 251  57  64  42]\n",
            " [ 87  75  47 135  80 155 231  69  57  64]\n",
            " [ 73  61  87  58 120  58 361  62  53  67]\n",
            " [ 55  71  49  98  83 262 161  63 105  53]\n",
            " [ 59  86  52  87  60  67 410  78  33  68]\n",
            " [ 70  73  41  53 126  68 171 122  97 179]\n",
            " [ 73  69  23  48  28  81  54  16 442 166]\n",
            " [ 60 106  18  25  30  15 101  65 181 399]]\n"
          ],
          "name": "stdout"
        }
      ]
    },
    {
      "cell_type": "code",
      "metadata": {
        "colab": {
          "base_uri": "https://localhost:8080/"
        },
        "id": "QS39vs0xMAj6",
        "outputId": "a1711d7f-78d3-475b-f656-a14f113477f4"
      },
      "source": [
        "print(classification_report(np.ravel(Y_test[0:ntest]),Y_predicted_linear))"
      ],
      "execution_count": null,
      "outputs": [
        {
          "output_type": "stream",
          "text": [
            "              precision    recall  f1-score   support\n",
            "\n",
            "           0       0.33      0.36      0.34      1000\n",
            "           1       0.23      0.20      0.22      1000\n",
            "           2       0.24      0.12      0.16      1000\n",
            "           3       0.20      0.14      0.16      1000\n",
            "           4       0.18      0.12      0.14      1000\n",
            "           5       0.32      0.26      0.29      1000\n",
            "           6       0.20      0.41      0.27      1000\n",
            "           7       0.19      0.12      0.15      1000\n",
            "           8       0.31      0.44      0.37      1000\n",
            "           9       0.30      0.40      0.34      1000\n",
            "\n",
            "    accuracy                           0.26     10000\n",
            "   macro avg       0.25      0.26      0.24     10000\n",
            "weighted avg       0.25      0.26      0.24     10000\n",
            "\n"
          ],
          "name": "stdout"
        }
      ]
    },
    {
      "cell_type": "code",
      "metadata": {
        "colab": {
          "base_uri": "https://localhost:8080/"
        },
        "id": "hV7RmYvggi00",
        "outputId": "89644562-1bec-4e79-f73e-4d8c2900c3e2"
      },
      "source": [
        "print(\"Testing accuracy of rbf kernel svm...\")\n",
        "TestSVM(svc2,X_testFeat, Y_test);"
      ],
      "execution_count": null,
      "outputs": [
        {
          "output_type": "stream",
          "text": [
            "Testing accuracy of rbf kernel svm...\n",
            "0.2829\n"
          ],
          "name": "stdout"
        }
      ]
    },
    {
      "cell_type": "code",
      "metadata": {
        "colab": {
          "base_uri": "https://localhost:8080/"
        },
        "id": "h7wXrYcfMLbY",
        "outputId": "5ade1c7c-b097-4ab7-b3a3-56272a619076"
      },
      "source": [
        "Y_predicted_rbf=svc2.predict(X_testFeat)\n",
        "print(\"Confusion matrix...\")\n",
        "print(confusion_matrix(np.ravel(Y_test[0:ntest]),Y_predicted_rbf))\n"
      ],
      "execution_count": null,
      "outputs": [
        {
          "output_type": "stream",
          "text": [
            "Confusion matrix...\n",
            "[[383  28  67  30 101  15  73  27 208  68]\n",
            " [ 63 237  21  77  71  27 167  41 120 176]\n",
            " [165  71  92  94 189  55 194  34  66  40]\n",
            " [ 74  71  43 246  82 121 172  68  50  73]\n",
            " [ 80  56  65  56 300  43 258  46  57  39]\n",
            " [ 68  67  64 202  99 192 121  63  77  47]\n",
            " [ 66  72  55  67 172  33 399  54  37  45]\n",
            " [ 72  84  33 105 167  61 126 136  82 134]\n",
            " [ 88  66  34  73  62  38  51  26 449 113]\n",
            " [ 60 130  15  57  43  26  70  55 149 395]]\n"
          ],
          "name": "stdout"
        }
      ]
    },
    {
      "cell_type": "code",
      "metadata": {
        "colab": {
          "base_uri": "https://localhost:8080/"
        },
        "id": "5l51RvSSMRab",
        "outputId": "902b2e37-11d3-4209-bd34-4c7a0d07c0d1"
      },
      "source": [
        "print(classification_report(np.ravel(Y_test[0:ntest]),Y_predicted_rbf))"
      ],
      "execution_count": null,
      "outputs": [
        {
          "output_type": "stream",
          "text": [
            "              precision    recall  f1-score   support\n",
            "\n",
            "           0       0.34      0.38      0.36      1000\n",
            "           1       0.27      0.24      0.25      1000\n",
            "           2       0.19      0.09      0.12      1000\n",
            "           3       0.24      0.25      0.25      1000\n",
            "           4       0.23      0.30      0.26      1000\n",
            "           5       0.31      0.19      0.24      1000\n",
            "           6       0.24      0.40      0.30      1000\n",
            "           7       0.25      0.14      0.18      1000\n",
            "           8       0.35      0.45      0.39      1000\n",
            "           9       0.35      0.40      0.37      1000\n",
            "\n",
            "    accuracy                           0.28     10000\n",
            "   macro avg       0.28      0.28      0.27     10000\n",
            "weighted avg       0.28      0.28      0.27     10000\n",
            "\n"
          ],
          "name": "stdout"
        }
      ]
    },
    {
      "cell_type": "code",
      "metadata": {
        "colab": {
          "base_uri": "https://localhost:8080/"
        },
        "id": "96KJl6DSgm6U",
        "outputId": "5de75da7-ef5b-4a58-b29f-759b6137ff35"
      },
      "source": [
        "print(\"Testing accuracy of polynomial kernel svm...\")\n",
        "TestSVM(svc3,X_testFeat, Y_test);"
      ],
      "execution_count": null,
      "outputs": [
        {
          "output_type": "stream",
          "text": [
            "Testing accuracy of polynomial kernel svm...\n",
            "0.2279\n"
          ],
          "name": "stdout"
        }
      ]
    },
    {
      "cell_type": "code",
      "metadata": {
        "colab": {
          "base_uri": "https://localhost:8080/"
        },
        "id": "_63fX534Mfc5",
        "outputId": "e1b8fb18-80ad-4dfe-bfeb-c6c5f9095ed3"
      },
      "source": [
        "Y_predicted_poly=svc3.predict(X_testFeat)\n",
        "print(\"Confusion matrix...\")\n",
        "print(confusion_matrix(np.ravel(Y_test[0:ntest]),Y_predicted_poly))"
      ],
      "execution_count": null,
      "outputs": [
        {
          "output_type": "stream",
          "text": [
            "Confusion matrix...\n",
            "[[218  22 172  14  50  11 260  29 174  50]\n",
            " [ 37 150 114  25  75  10 342  31 104 112]\n",
            " [ 71  34 206  27  77  24 466  22  47  26]\n",
            " [ 46  42 122  88  96  85 392  48  43  38]\n",
            " [ 28  25 125  26 150  19 560  26  29  12]\n",
            " [ 36  38 150  88  97 111 361  39  60  20]\n",
            " [ 32  32  83  31  76  20 654  38  16  18]\n",
            " [ 30  43 146  41 115  46 358  80  59  82]\n",
            " [ 52  41 136  17  50  21 242  22 362  57]\n",
            " [ 47 112 104  16  45  12 227  44 133 260]]\n"
          ],
          "name": "stdout"
        }
      ]
    },
    {
      "cell_type": "code",
      "metadata": {
        "colab": {
          "base_uri": "https://localhost:8080/"
        },
        "id": "oR-5ynLiMtIw",
        "outputId": "ec991fa1-65bd-4545-d75e-091268a9dcea"
      },
      "source": [
        "print(classification_report(np.ravel(Y_test[0:ntest]),Y_predicted_poly))"
      ],
      "execution_count": null,
      "outputs": [
        {
          "output_type": "stream",
          "text": [
            "              precision    recall  f1-score   support\n",
            "\n",
            "           0       0.37      0.22      0.27      1000\n",
            "           1       0.28      0.15      0.19      1000\n",
            "           2       0.15      0.21      0.17      1000\n",
            "           3       0.24      0.09      0.13      1000\n",
            "           4       0.18      0.15      0.16      1000\n",
            "           5       0.31      0.11      0.16      1000\n",
            "           6       0.17      0.65      0.27      1000\n",
            "           7       0.21      0.08      0.12      1000\n",
            "           8       0.35      0.36      0.36      1000\n",
            "           9       0.39      0.26      0.31      1000\n",
            "\n",
            "    accuracy                           0.23     10000\n",
            "   macro avg       0.26      0.23      0.22     10000\n",
            "weighted avg       0.26      0.23      0.22     10000\n",
            "\n"
          ],
          "name": "stdout"
        }
      ]
    },
    {
      "cell_type": "code",
      "metadata": {
        "colab": {
          "base_uri": "https://localhost:8080/"
        },
        "id": "z8GIAPUvgr8H",
        "outputId": "934ab45d-926f-4a36-ac84-df15ec7e10fe"
      },
      "source": [
        "print(\"Testing accuracy of sigmoid kernel svm...\")\n",
        "TestSVM(svc4,X_testFeat, Y_test);\n"
      ],
      "execution_count": null,
      "outputs": [
        {
          "output_type": "stream",
          "text": [
            "Testing accuracy of sigmoid kernel svm...\n",
            "0.1277\n"
          ],
          "name": "stdout"
        }
      ]
    },
    {
      "cell_type": "code",
      "metadata": {
        "colab": {
          "base_uri": "https://localhost:8080/"
        },
        "id": "gJ9B4s8DMyLD",
        "outputId": "aece17ea-5044-47d8-c258-be98ecb0ee1d"
      },
      "source": [
        "Y_predicted_sig=svc4.predict(X_testFeat)\n",
        "print(\"Confusion matrix...\")\n",
        "print(confusion_matrix(np.ravel(Y_test[0:ntest]),Y_predicted_sig))"
      ],
      "execution_count": null,
      "outputs": [
        {
          "output_type": "stream",
          "text": [
            "Confusion matrix...\n",
            "[[452  56   2 259  46  10   9  57  51  58]\n",
            " [290 113   1 249  52  13  52  72  83  75]\n",
            " [395  89   6 273  47  19  41  61  24  45]\n",
            " [341  86   4 305  62  32  58  46  39  27]\n",
            " [305  99   4 312  52  50  51  67  30  30]\n",
            " [363  85   7 301  65  37  52  40  27  23]\n",
            " [269 148   7 317  52  36  59  56  10  46]\n",
            " [401  88   8 234  69  13  35  58  38  56]\n",
            " [447 114   1 167  32  17  15  59  85  63]\n",
            " [353  83   2 179  39   4  24  63 143 110]]\n"
          ],
          "name": "stdout"
        }
      ]
    },
    {
      "cell_type": "code",
      "metadata": {
        "colab": {
          "base_uri": "https://localhost:8080/"
        },
        "id": "JBzvjYxKM7AB",
        "outputId": "4914bfd1-c1cc-49c2-82a3-bc2fabaa90eb"
      },
      "source": [
        "print(classification_report(np.ravel(Y_test[0:ntest]),Y_predicted_sig))"
      ],
      "execution_count": null,
      "outputs": [
        {
          "output_type": "stream",
          "text": [
            "              precision    recall  f1-score   support\n",
            "\n",
            "           0       0.12      0.45      0.20      1000\n",
            "           1       0.12      0.11      0.12      1000\n",
            "           2       0.14      0.01      0.01      1000\n",
            "           3       0.12      0.30      0.17      1000\n",
            "           4       0.10      0.05      0.07      1000\n",
            "           5       0.16      0.04      0.06      1000\n",
            "           6       0.15      0.06      0.08      1000\n",
            "           7       0.10      0.06      0.07      1000\n",
            "           8       0.16      0.09      0.11      1000\n",
            "           9       0.21      0.11      0.14      1000\n",
            "\n",
            "    accuracy                           0.13     10000\n",
            "   macro avg       0.14      0.13      0.10     10000\n",
            "weighted avg       0.14      0.13      0.10     10000\n",
            "\n"
          ],
          "name": "stdout"
        }
      ]
    },
    {
      "cell_type": "code",
      "metadata": {
        "colab": {
          "base_uri": "https://localhost:8080/"
        },
        "id": "1NOjWwNJhWWZ",
        "outputId": "a72b8127-47bf-45ff-a9a1-f152b4f94f57"
      },
      "source": [
        "print(\"Gussian Naiive Bayes Classifier\")\n",
        "GNB = GaussianNB()\n",
        "Y_predicted_GNB=GNB.fit(X_trainFeat, np.ravel(Y_train[0:ntrain])).predict(X_testFeat)\n",
        "print(\"Testing accuracy of Naiive Bayes Gussian Classifier...\")\n",
        "accuracy_score(np.ravel(Y_test[0:ntest]),Y_predicted_GNB)\n"
      ],
      "execution_count": null,
      "outputs": [
        {
          "output_type": "stream",
          "text": [
            "Gussian Naiive Bayes Classifier\n",
            "Testing accuracy of Naiive Bayes Gussian Classifier...\n"
          ],
          "name": "stdout"
        },
        {
          "output_type": "execute_result",
          "data": {
            "text/plain": [
              "0.2308"
            ]
          },
          "metadata": {
            "tags": []
          },
          "execution_count": 26
        }
      ]
    },
    {
      "cell_type": "code",
      "metadata": {
        "colab": {
          "base_uri": "https://localhost:8080/"
        },
        "id": "g8q4IizUrGDW",
        "outputId": "fe35fdfb-d58f-4b21-f60f-f2cca4ff8764"
      },
      "source": [
        "print(\"the confusion matrix in nb\")\n",
        "print(confusion_matrix(np.ravel(Y_test[0:ntest]),Y_predicted_GNB))\n",
        "\n"
      ],
      "execution_count": null,
      "outputs": [
        {
          "output_type": "stream",
          "text": [
            "the confusion matrix in nb\n",
            "[[473   4   8  13 205  10  61  18 154  54]\n",
            " [104  78   3  54 188  43 211  26 114 179]\n",
            " [211  14  20  48 321  40 191  27  71  57]\n",
            " [107  16  14 148 188  96 226  53  66  86]\n",
            " [105  11  12  24 444  42 229  29  70  34]\n",
            " [ 92  21  21 107 248 127 185  46  92  61]\n",
            " [ 87  17  16  36 333  33 335  32  56  55]\n",
            " [111  27  13  66 305  56 111  63 124 124]\n",
            " [202  18  11  35 190  40  66  29 242 167]\n",
            " [103  47   6  41 118  28  83  33 163 378]]\n"
          ],
          "name": "stdout"
        }
      ]
    },
    {
      "cell_type": "code",
      "metadata": {
        "colab": {
          "base_uri": "https://localhost:8080/"
        },
        "id": "azAVIV1vreMy",
        "outputId": "34dc6aae-fbd4-43d3-ff3b-598134aa189c"
      },
      "source": [
        "print(classification_report(np.ravel(Y_test[0:ntest]),Y_predicted_GNB))"
      ],
      "execution_count": null,
      "outputs": [
        {
          "output_type": "stream",
          "text": [
            "              precision    recall  f1-score   support\n",
            "\n",
            "           0       0.30      0.47      0.36      1000\n",
            "           1       0.31      0.08      0.12      1000\n",
            "           2       0.16      0.02      0.04      1000\n",
            "           3       0.26      0.15      0.19      1000\n",
            "           4       0.17      0.44      0.25      1000\n",
            "           5       0.25      0.13      0.17      1000\n",
            "           6       0.20      0.34      0.25      1000\n",
            "           7       0.18      0.06      0.09      1000\n",
            "           8       0.21      0.24      0.22      1000\n",
            "           9       0.32      0.38      0.34      1000\n",
            "\n",
            "    accuracy                           0.23     10000\n",
            "   macro avg       0.23      0.23      0.20     10000\n",
            "weighted avg       0.23      0.23      0.20     10000\n",
            "\n"
          ],
          "name": "stdout"
        }
      ]
    },
    {
      "cell_type": "code",
      "metadata": {
        "colab": {
          "base_uri": "https://localhost:8080/"
        },
        "id": "hgfOcAfasNtg",
        "outputId": "648526c6-2377-4c07-8f8e-78999dc790af"
      },
      "source": [
        "print(\"KNN_Classifier\")\n",
        "KNN = KNeighborsClassifier(n_neighbors=7)\n",
        "KNN.fit(X_trainFeat,np.ravel(Y_train[0:ntrain]))\n",
        "Y_predicted_KNN=KNN.predict(X_testFeat)\n",
        "print(\"Accuracy:\",metrics.accuracy_score(np.ravel(Y_test[0:ntest]),Y_predicted_KNN))"
      ],
      "execution_count": null,
      "outputs": [
        {
          "output_type": "stream",
          "text": [
            "KNN_Classifier\n",
            "Accuracy: 0.2003\n"
          ],
          "name": "stdout"
        }
      ]
    },
    {
      "cell_type": "code",
      "metadata": {
        "id": "Dd1TOJyd5D_V",
        "colab": {
          "base_uri": "https://localhost:8080/"
        },
        "outputId": "3c880f6a-1ede-431f-9b98-492bb8fdcb77"
      },
      "source": [
        "\"\"\"\n",
        " k=3\n",
        "Accuracy: 0.1784\n",
        "the confusion matrix in knn\n",
        "array([[434,  85, 152,  58,  74,  29,  37,  32,  67,  32],\n",
        "     [172, 268, 116, 109,  77,  49,  42,  39,  53,  75],\n",
        "      [238, 128, 231, 107, 110,  54,  56,  31,  23,  22],\n",
        "       [166, 145, 184, 189,  93,  79,  50,  36,  34,  24],\n",
        "       [189, 140, 197, 113, 158,  43,  89,  30,  28,  13],\n",
        "      [163, 166, 186, 160, 105,  76,  63,  46,  10,  25],\n",
        "      [196, 148, 199, 116, 120,  60, 112,  20,  16,  13],\n",
        "     [201, 181, 127, 116, 111,  53,  52,  65,  47,  47],\n",
        "        [270, 161, 123,  87,  64,  37,  33,  46, 117,  62],\n",
        "       [206, 226,  80,  83,  63,  44,  36,  56,  72, 134]])\n",
        "\n",
        "#################################################################\n",
        "precision    recall  f1-score   support\n",
        "\n",
        "           0       0.19      0.43      0.27      1000\n",
        "           1       0.16      0.27      0.20      1000\n",
        "           2       0.14      0.23      0.18      1000\n",
        "           3       0.17      0.19      0.18      1000\n",
        "           4       0.16      0.16      0.16      1000\n",
        "           5       0.15      0.08      0.10      1000\n",
        "           6       0.20      0.11      0.14      1000\n",
        "           7       0.16      0.07      0.09      1000\n",
        "           8       0.25      0.12      0.16      1000\n",
        "           9       0.30      0.13      0.19      1000\n",
        "\n",
        "    accuracy                           0.18     10000\n",
        "   macro avg       0.19      0.18      0.17     10000\n",
        "weighted avg       0.19      0.18      0.17     10000\n",
        "\n",
        "\n",
        "\"\"\"\n",
        "\"\"\"\n",
        "k=5\n",
        "Accuracy: 0.1931\n",
        "the confusion matrix in knn\n",
        "array([[398,  64, 131,  42,  75,  32,  54,  52, 101,  51],\n",
        "       [136, 219,  91,  87,  87,  45,  72,  66,  97, 100],\n",
        "       [219,  94, 179, 101, 119,  67,  89,  44,  48,  40],\n",
        "       [150, 112, 139, 153,  87, 101, 102,  58,  52,  46],\n",
        "       [166, 102, 164,  83, 166,  62, 119,  66,  46,  26],\n",
        "       [131, 128, 144, 143, 106, 115, 105,  59,  33,  36],\n",
        "       [165, 120, 141, 100, 130,  62, 174,  46,  33,  29],\n",
        "       [164, 103,  95,  87, 119,  75,  77, 113,  98,  69],\n",
        "       [214, 121,  91,  65,  48,  38,  45,  70, 206, 102],\n",
        "       [163, 154,  55,  57,  47,  35,  52,  80, 149, 208]])\n",
        "\n",
        "####################################################\n",
        "precision    recall  f1-score   support\n",
        "\n",
        "           0       0.21      0.40      0.27      1000\n",
        "           1       0.18      0.22      0.20      1000\n",
        "           2       0.15      0.18      0.16      1000\n",
        "           3       0.17      0.15      0.16      1000\n",
        "           4       0.17      0.17      0.17      1000\n",
        "           5       0.18      0.12      0.14      1000\n",
        "           6       0.20      0.17      0.18      1000\n",
        "           7       0.17      0.11      0.14      1000\n",
        "           8       0.24      0.21      0.22      1000\n",
        "           9       0.29      0.21      0.24      1000\n",
        "\n",
        "    accuracy                           0.19     10000\n",
        "   macro avg       0.20      0.19      0.19     10000\n",
        "weighted avg       0.20      0.19      0.19     10000\n",
        "\n",
        "\n",
        "\"\"\"\n",
        "\"\"\"\n",
        "k=100\n",
        "Accuracy: 0.2374\n",
        "the confusion matrix in knn\n",
        "array([[343,   9, 132,  34,  92,  16,  65,  21, 186, 102],\n",
        "       [ 69, 133,  78,  65,  85,  40, 178,  21, 168, 163],\n",
        "       [165,  38, 195,  92, 153,  41, 186,  17,  71,  42],\n",
        "       [ 74,  33,  97, 187, 158,  91, 187,  38,  63,  72],\n",
        "       [ 87,  26, 191,  53, 289,  37, 201,  19,  68,  29],\n",
        "       [ 72,  41, 105, 162, 193,  95, 182,  38,  61,  51],\n",
        "       [ 95,  37, 132,  69, 155,  39, 351,  30,  58,  34],\n",
        "       [ 91,  42,  87,  90, 201,  57, 111,  58, 144, 119],\n",
        "       [106,  27,  88,  60,  70,  28,  75,  26, 330, 190],\n",
        "       [ 67,  60,  45,  44,  49,  26,  84,  27, 205, 393]])\n",
        "  ########################################################\n",
        "    precision    recall  f1-score   support\n",
        "\n",
        "           0       0.29      0.34      0.32      1000\n",
        "           1       0.30      0.13      0.18      1000\n",
        "           2       0.17      0.20      0.18      1000\n",
        "           3       0.22      0.19      0.20      1000\n",
        "           4       0.20      0.29      0.24      1000\n",
        "           5       0.20      0.10      0.13      1000\n",
        "           6       0.22      0.35      0.27      1000\n",
        "           7       0.20      0.06      0.09      1000\n",
        "           8       0.24      0.33      0.28      1000\n",
        "           9       0.33      0.39      0.36      1000\n",
        "\n",
        "    accuracy                           0.24     10000\n",
        "   macro avg       0.24      0.24      0.22     10000\n",
        "weighted avg       0.24      0.24      0.22     10000\n",
        "\n",
        "\n",
        "\"\"\""
      ],
      "execution_count": null,
      "outputs": [
        {
          "output_type": "execute_result",
          "data": {
            "application/vnd.google.colaboratory.intrinsic+json": {
              "type": "string"
            },
            "text/plain": [
              "'\\nk=100\\nAccuracy: 0.2374\\nthe confusion matrix in knn\\narray([[343,   9, 132,  34,  92,  16,  65,  21, 186, 102],\\n       [ 69, 133,  78,  65,  85,  40, 178,  21, 168, 163],\\n       [165,  38, 195,  92, 153,  41, 186,  17,  71,  42],\\n       [ 74,  33,  97, 187, 158,  91, 187,  38,  63,  72],\\n       [ 87,  26, 191,  53, 289,  37, 201,  19,  68,  29],\\n       [ 72,  41, 105, 162, 193,  95, 182,  38,  61,  51],\\n       [ 95,  37, 132,  69, 155,  39, 351,  30,  58,  34],\\n       [ 91,  42,  87,  90, 201,  57, 111,  58, 144, 119],\\n       [106,  27,  88,  60,  70,  28,  75,  26, 330, 190],\\n       [ 67,  60,  45,  44,  49,  26,  84,  27, 205, 393]])\\n  ########################################################\\n    precision    recall  f1-score   support\\n\\n           0       0.29      0.34      0.32      1000\\n           1       0.30      0.13      0.18      1000\\n           2       0.17      0.20      0.18      1000\\n           3       0.22      0.19      0.20      1000\\n           4       0.20      0.29      0.24      1000\\n           5       0.20      0.10      0.13      1000\\n           6       0.22      0.35      0.27      1000\\n           7       0.20      0.06      0.09      1000\\n           8       0.24      0.33      0.28      1000\\n           9       0.33      0.39      0.36      1000\\n\\n    accuracy                           0.24     10000\\n   macro avg       0.24      0.24      0.22     10000\\nweighted avg       0.24      0.24      0.22     10000\\n\\n\\n'"
            ]
          },
          "metadata": {
            "tags": []
          },
          "execution_count": 30
        }
      ]
    },
    {
      "cell_type": "code",
      "metadata": {
        "id": "xA9BTi3xvscS",
        "colab": {
          "base_uri": "https://localhost:8080/"
        },
        "outputId": "ec46fe64-15f5-43bc-cb0a-14c5364fd0d2"
      },
      "source": [
        "print(\"the confusion matrix in knn\")\n",
        "print(confusion_matrix(np.ravel(Y_test[0:ntest]),Y_predicted_KNN))"
      ],
      "execution_count": null,
      "outputs": [
        {
          "output_type": "stream",
          "text": [
            "the confusion matrix in knn\n",
            "[[375  65 139  48  75  43  53  39 111  52]\n",
            " [105 213 104  82  90  63  82  60 106  95]\n",
            " [195  75 189 106 132  72  95  51  50  35]\n",
            " [115  87 128 178 121 118 106  56  51  40]\n",
            " [138  80 154  97 197  66 144  54  51  19]\n",
            " [113 101 146 154 121 132  98  64  33  38]\n",
            " [128 102 158 107 149  75 177  47  32  25]\n",
            " [132  99 107  95 143  79  74 110  85  76]\n",
            " [192  99  98  74  61  40  50  77 203 106]\n",
            " [138 143  63  65  51  48  55  76 132 229]]\n"
          ],
          "name": "stdout"
        }
      ]
    },
    {
      "cell_type": "code",
      "metadata": {
        "id": "-K_fHFGCyYh_",
        "colab": {
          "base_uri": "https://localhost:8080/"
        },
        "outputId": "e36e1c66-88ba-4417-d8f7-1a7dbf8c4ac8"
      },
      "source": [
        "print(classification_report(np.ravel(Y_test[0:ntest]),Y_predicted_KNN))\n"
      ],
      "execution_count": null,
      "outputs": [
        {
          "output_type": "stream",
          "text": [
            "              precision    recall  f1-score   support\n",
            "\n",
            "           0       0.23      0.38      0.29      1000\n",
            "           1       0.20      0.21      0.21      1000\n",
            "           2       0.15      0.19      0.17      1000\n",
            "           3       0.18      0.18      0.18      1000\n",
            "           4       0.17      0.20      0.18      1000\n",
            "           5       0.18      0.13      0.15      1000\n",
            "           6       0.19      0.18      0.18      1000\n",
            "           7       0.17      0.11      0.13      1000\n",
            "           8       0.24      0.20      0.22      1000\n",
            "           9       0.32      0.23      0.27      1000\n",
            "\n",
            "    accuracy                           0.20     10000\n",
            "   macro avg       0.20      0.20      0.20     10000\n",
            "weighted avg       0.20      0.20      0.20     10000\n",
            "\n"
          ],
          "name": "stdout"
        }
      ]
    },
    {
      "cell_type": "code",
      "metadata": {
        "id": "JOVKprmY8egj",
        "colab": {
          "base_uri": "https://localhost:8080/",
          "height": 52
        },
        "outputId": "239f665c-c8e0-47d2-9017-3b253a7767fc"
      },
      "source": [
        "\"\"\"\n",
        "accuarcy of each classifier\n",
        "c=3\n",
        "\n",
        "svmlinear\n",
        "0.2566\n",
        "\n",
        "svmrbf\n",
        "0.2829\n",
        "\n",
        "svmpoly\n",
        "0.2279\n",
        "\n",
        "svmsigmoid\n",
        "0.1277\n",
        "\n",
        "guassian\n",
        "0.2308\n",
        "\n",
        "knn\n",
        "k=3\n",
        "0.1784\n",
        "k=5\n",
        "0.1931\n",
        "k=100\n",
        "0.2374\n",
        "\n",
        "# the best is svm rbf\n",
        "\n",
        "\"\"\""
      ],
      "execution_count": null,
      "outputs": [
        {
          "output_type": "execute_result",
          "data": {
            "application/vnd.google.colaboratory.intrinsic+json": {
              "type": "string"
            },
            "text/plain": [
              "'\\naccuarcy of each classifier\\nc=3\\n\\nsvmlinear\\n0.2566\\n\\nsvmrbf\\n0.2829\\n\\nsvmpoly\\n0.2279\\n\\nsvmsigmoid\\n0.1277\\n\\nguassian\\n0.2308\\n\\nknn\\nk=3\\n0.1784\\nk=5\\n0.1931\\nk=100\\n0.2374\\n\\n# the best is svm rbf\\n\\n'"
            ]
          },
          "metadata": {
            "tags": []
          },
          "execution_count": 33
        }
      ]
    },
    {
      "cell_type": "code",
      "metadata": {
        "colab": {
          "base_uri": "https://localhost:8080/"
        },
        "id": "1IdDAPxtyK56",
        "outputId": "ec00bb11-351e-4616-99cf-922f306d2fc9"
      },
      "source": [
        "print(\"Training Neural Network...\")\n",
        "clf = MLPClassifier(solver='lbfgs', alpha=1e-5, hidden_layer_sizes=(5, 2), random_state=1)\n",
        "clf.fit(X_trainFeat,np.ravel( Y_train[0:ntrain]))\n",
        "score=clf.score(X_testFeat, np.ravel(Y_test))\n",
        "print(\"Accuarcy:\")\n",
        "print(score)\n",
        "Y_predicted_NN=clf.predict(X_testFeat)\n",
        "print(\"confusion_matrix:\")\n",
        "print(confusion_matrix(np.ravel(Y_test[0:ntest]),Y_predicted_NN))\n",
        "\n"
      ],
      "execution_count": null,
      "outputs": [
        {
          "output_type": "stream",
          "text": [
            "Training Neural Network...\n",
            "Accuarcy:\n",
            "0.1\n",
            "confusion_matrix:\n",
            "[[1000    0    0    0    0    0    0    0    0    0]\n",
            " [1000    0    0    0    0    0    0    0    0    0]\n",
            " [1000    0    0    0    0    0    0    0    0    0]\n",
            " [1000    0    0    0    0    0    0    0    0    0]\n",
            " [1000    0    0    0    0    0    0    0    0    0]\n",
            " [1000    0    0    0    0    0    0    0    0    0]\n",
            " [1000    0    0    0    0    0    0    0    0    0]\n",
            " [1000    0    0    0    0    0    0    0    0    0]\n",
            " [1000    0    0    0    0    0    0    0    0    0]\n",
            " [1000    0    0    0    0    0    0    0    0    0]]\n"
          ],
          "name": "stdout"
        }
      ]
    },
    {
      "cell_type": "code",
      "metadata": {
        "colab": {
          "base_uri": "https://localhost:8080/"
        },
        "id": "pN7lAqrK1qPQ",
        "outputId": "aff8d2f8-dab3-4ca4-ccab-fc560fa6746a"
      },
      "source": [
        "print(classification_report(np.ravel(Y_test[0:ntest]),Y_predicted_NN))"
      ],
      "execution_count": null,
      "outputs": [
        {
          "output_type": "stream",
          "text": [
            "              precision    recall  f1-score   support\n",
            "\n",
            "           0       0.10      1.00      0.18      1000\n",
            "           1       0.00      0.00      0.00      1000\n",
            "           2       0.00      0.00      0.00      1000\n",
            "           3       0.00      0.00      0.00      1000\n",
            "           4       0.00      0.00      0.00      1000\n",
            "           5       0.00      0.00      0.00      1000\n",
            "           6       0.00      0.00      0.00      1000\n",
            "           7       0.00      0.00      0.00      1000\n",
            "           8       0.00      0.00      0.00      1000\n",
            "           9       0.00      0.00      0.00      1000\n",
            "\n",
            "    accuracy                           0.10     10000\n",
            "   macro avg       0.01      0.10      0.02     10000\n",
            "weighted avg       0.01      0.10      0.02     10000\n",
            "\n"
          ],
          "name": "stdout"
        },
        {
          "output_type": "stream",
          "text": [
            "/usr/local/lib/python3.6/dist-packages/sklearn/metrics/_classification.py:1272: UndefinedMetricWarning: Precision and F-score are ill-defined and being set to 0.0 in labels with no predicted samples. Use `zero_division` parameter to control this behavior.\n",
            "  _warn_prf(average, modifier, msg_start, len(result))\n"
          ],
          "name": "stderr"
        }
      ]
    }
  ]
}